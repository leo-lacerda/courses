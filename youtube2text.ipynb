{
  "nbformat": 4,
  "nbformat_minor": 0,
  "metadata": {
    "colab": {
      "provenance": [],
      "authorship_tag": "ABX9TyMVxuz/FKgSy0zLCPSml/ig",
      "include_colab_link": true
    },
    "kernelspec": {
      "name": "python3",
      "display_name": "Python 3"
    },
    "language_info": {
      "name": "python"
    }
  },
  "cells": [
    {
      "cell_type": "markdown",
      "metadata": {
        "id": "view-in-github",
        "colab_type": "text"
      },
      "source": [
        "<a href=\"https://colab.research.google.com/github/leo-lacerda/learning-python/blob/main/youtube2text.ipynb\" target=\"_parent\"><img src=\"https://colab.research.google.com/assets/colab-badge.svg\" alt=\"Open In Colab\"/></a>"
      ]
    },
    {
      "cell_type": "code",
      "execution_count": 1,
      "metadata": {
        "colab": {
          "base_uri": "https://localhost:8080/"
        },
        "id": "oEQuktDkMHQk",
        "outputId": "55ab3f43-ac04-4c56-be99-1cbb03a9ec1f"
      },
      "outputs": [
        {
          "output_type": "stream",
          "name": "stdout",
          "text": [
            "Collecting pytube\n",
            "  Downloading pytube-15.0.0-py3-none-any.whl (57 kB)\n",
            "\u001b[?25l     \u001b[90m━━━━━━━━━━━━━━━━━━━━━━━━━━━━━━━━━━━━━━━━\u001b[0m \u001b[32m0.0/57.6 kB\u001b[0m \u001b[31m?\u001b[0m eta \u001b[36m-:--:--\u001b[0m\r\u001b[2K     \u001b[90m━━━━━━━━━━━━━━━━━━━━━━━━━━━━━━━━━━━━━━━━\u001b[0m \u001b[32m57.6/57.6 kB\u001b[0m \u001b[31m1.5 MB/s\u001b[0m eta \u001b[36m0:00:00\u001b[0m\n",
            "\u001b[?25hInstalling collected packages: pytube\n",
            "Successfully installed pytube-15.0.0\n"
          ]
        }
      ],
      "source": [
        "pip install pytube"
      ]
    },
    {
      "cell_type": "code",
      "source": [
        "pip install -U openai-whisper"
      ],
      "metadata": {
        "colab": {
          "base_uri": "https://localhost:8080/"
        },
        "id": "Dor0R1esMW-Y",
        "outputId": "b01b479b-9284-454c-9155-c1df38f172db"
      },
      "execution_count": 2,
      "outputs": [
        {
          "output_type": "stream",
          "name": "stdout",
          "text": [
            "Collecting openai-whisper\n",
            "  Downloading openai-whisper-20231117.tar.gz (798 kB)\n",
            "\u001b[2K     \u001b[90m━━━━━━━━━━━━━━━━━━━━━━━━━━━━━━━━━━━━━━━━\u001b[0m \u001b[32m798.6/798.6 kB\u001b[0m \u001b[31m5.1 MB/s\u001b[0m eta \u001b[36m0:00:00\u001b[0m\n",
            "\u001b[?25h  Installing build dependencies ... \u001b[?25l\u001b[?25hdone\n",
            "  Getting requirements to build wheel ... \u001b[?25l\u001b[?25hdone\n",
            "  Preparing metadata (pyproject.toml) ... \u001b[?25l\u001b[?25hdone\n",
            "Requirement already satisfied: triton<3,>=2.0.0 in /usr/local/lib/python3.10/dist-packages (from openai-whisper) (2.1.0)\n",
            "Requirement already satisfied: numba in /usr/local/lib/python3.10/dist-packages (from openai-whisper) (0.58.1)\n",
            "Requirement already satisfied: numpy in /usr/local/lib/python3.10/dist-packages (from openai-whisper) (1.25.2)\n",
            "Requirement already satisfied: torch in /usr/local/lib/python3.10/dist-packages (from openai-whisper) (2.1.0+cu121)\n",
            "Requirement already satisfied: tqdm in /usr/local/lib/python3.10/dist-packages (from openai-whisper) (4.66.2)\n",
            "Requirement already satisfied: more-itertools in /usr/local/lib/python3.10/dist-packages (from openai-whisper) (10.1.0)\n",
            "Collecting tiktoken (from openai-whisper)\n",
            "  Downloading tiktoken-0.6.0-cp310-cp310-manylinux_2_17_x86_64.manylinux2014_x86_64.whl (1.8 MB)\n",
            "\u001b[2K     \u001b[90m━━━━━━━━━━━━━━━━━━━━━━━━━━━━━━━━━━━━━━━━\u001b[0m \u001b[32m1.8/1.8 MB\u001b[0m \u001b[31m10.4 MB/s\u001b[0m eta \u001b[36m0:00:00\u001b[0m\n",
            "\u001b[?25hRequirement already satisfied: filelock in /usr/local/lib/python3.10/dist-packages (from triton<3,>=2.0.0->openai-whisper) (3.13.1)\n",
            "Requirement already satisfied: llvmlite<0.42,>=0.41.0dev0 in /usr/local/lib/python3.10/dist-packages (from numba->openai-whisper) (0.41.1)\n",
            "Requirement already satisfied: regex>=2022.1.18 in /usr/local/lib/python3.10/dist-packages (from tiktoken->openai-whisper) (2023.12.25)\n",
            "Requirement already satisfied: requests>=2.26.0 in /usr/local/lib/python3.10/dist-packages (from tiktoken->openai-whisper) (2.31.0)\n",
            "Requirement already satisfied: typing-extensions in /usr/local/lib/python3.10/dist-packages (from torch->openai-whisper) (4.10.0)\n",
            "Requirement already satisfied: sympy in /usr/local/lib/python3.10/dist-packages (from torch->openai-whisper) (1.12)\n",
            "Requirement already satisfied: networkx in /usr/local/lib/python3.10/dist-packages (from torch->openai-whisper) (3.2.1)\n",
            "Requirement already satisfied: jinja2 in /usr/local/lib/python3.10/dist-packages (from torch->openai-whisper) (3.1.3)\n",
            "Requirement already satisfied: fsspec in /usr/local/lib/python3.10/dist-packages (from torch->openai-whisper) (2023.6.0)\n",
            "Requirement already satisfied: charset-normalizer<4,>=2 in /usr/local/lib/python3.10/dist-packages (from requests>=2.26.0->tiktoken->openai-whisper) (3.3.2)\n",
            "Requirement already satisfied: idna<4,>=2.5 in /usr/local/lib/python3.10/dist-packages (from requests>=2.26.0->tiktoken->openai-whisper) (3.6)\n",
            "Requirement already satisfied: urllib3<3,>=1.21.1 in /usr/local/lib/python3.10/dist-packages (from requests>=2.26.0->tiktoken->openai-whisper) (2.0.7)\n",
            "Requirement already satisfied: certifi>=2017.4.17 in /usr/local/lib/python3.10/dist-packages (from requests>=2.26.0->tiktoken->openai-whisper) (2024.2.2)\n",
            "Requirement already satisfied: MarkupSafe>=2.0 in /usr/local/lib/python3.10/dist-packages (from jinja2->torch->openai-whisper) (2.1.5)\n",
            "Requirement already satisfied: mpmath>=0.19 in /usr/local/lib/python3.10/dist-packages (from sympy->torch->openai-whisper) (1.3.0)\n",
            "Building wheels for collected packages: openai-whisper\n",
            "  Building wheel for openai-whisper (pyproject.toml) ... \u001b[?25l\u001b[?25hdone\n",
            "  Created wheel for openai-whisper: filename=openai_whisper-20231117-py3-none-any.whl size=801356 sha256=db8ef797d360ac03a58111e334f829a2af5072264e35df591b2e950385868baf\n",
            "  Stored in directory: /root/.cache/pip/wheels/d0/85/e1/9361b4cbea7dd4b7f6702fa4c3afc94877952eeb2b62f45f56\n",
            "Successfully built openai-whisper\n",
            "Installing collected packages: tiktoken, openai-whisper\n",
            "Successfully installed openai-whisper-20231117 tiktoken-0.6.0\n"
          ]
        }
      ]
    },
    {
      "cell_type": "code",
      "source": [
        "from pytube import YouTube\n",
        "video = YouTube('https://www.youtube.com/watch?v=FNwu440UxhU')\n",
        "audio = video.streams.filter(only_audio=True).first()\n",
        "audio.download()"
      ],
      "metadata": {
        "colab": {
          "base_uri": "https://localhost:8080/",
          "height": 35
        },
        "id": "UuUzNa8eMbre",
        "outputId": "f88c94da-b66c-47ab-8316-366aab085169"
      },
      "execution_count": 3,
      "outputs": [
        {
          "output_type": "execute_result",
          "data": {
            "text/plain": [
              "'/content/Stop Innovating (On The Wrong Things).mp4'"
            ],
            "application/vnd.google.colaboratory.intrinsic+json": {
              "type": "string"
            }
          },
          "metadata": {},
          "execution_count": 3
        }
      ]
    },
    {
      "cell_type": "code",
      "source": [
        "import whisper\n",
        "model = whisper.load_model(\"base\")\n",
        "result = model.transcribe(\"/content/Stop Innovating (On The Wrong Things).mp4\")\n",
        "print(f'Transcription: \\n {result[\"text\"]}')"
      ],
      "metadata": {
        "colab": {
          "base_uri": "https://localhost:8080/"
        },
        "id": "UVstjPXlOf1_",
        "outputId": "67275490-3c82-48a6-f45a-f29754022db1"
      },
      "execution_count": 4,
      "outputs": [
        {
          "output_type": "stream",
          "name": "stderr",
          "text": [
            "100%|████████████████████████████████████████| 139M/139M [00:01<00:00, 112MiB/s]\n",
            "/usr/local/lib/python3.10/dist-packages/whisper/transcribe.py:115: UserWarning: FP16 is not supported on CPU; using FP32 instead\n",
            "  warnings.warn(\"FP16 is not supported on CPU; using FP32 instead\")\n"
          ]
        },
        {
          "output_type": "stream",
          "name": "stdout",
          "text": [
            "Transcription: \n",
            "  headline written in the news is people looking at the corporate structure of open AI and being like, oh, this is an interesting. This is an instruction manual. All right, welcome to Dauton Post Michael. Today we're going to talk about how do you avoid innovating on the wrong things? So to set this up, right, we're in the innovation economy. Oh, definitely. We're in the major innovation. That's right here, innovation economy. That's what's happening. We encounter a lot of founders who believe that they need to take what I call innovation juice and spread it across innovation juice when I'm trying to insult it. And they have to spread it across every fricking problem they encounter. And I think that there's only a limited amount of innovation energy that any company can have. There's only so much juice. That's what you're saying. It's like I said that up. And we have maybe encountered some places where you should maybe just use the best practices. Yeah, here's the, I think about this. Making a startup work is a miracle. And the fact that you got product market fit and made something people want, you literally performed a miracle to do that. It is amazing. Yes. People would, or so, you know, people would die to get where you got. Now the odds that you were going to be able to perform five miracles at once is much, much, much lower. Much lower. And so you want to focus the miracle juice on the single miracle, which is making something people want and making a product, right? Yes. You guys, you know what I'm saying? And so solving real customer problem. And then all those other stuff. Yes. Yeah, just do best practices. Please don't innovate. Yes. Like, you don't need to have a low likelihood of success miracle. But you don't want to have to be right on these long shot bets in five different ways. Yes. And I think it's interesting because I think that I encounter some people who somehow are more religious about these side bets, right? It's like, well, I'll only do a startup if I can locate it in BumbleFuckNoWare. Or I'll only do a startup if I get to do this weird corporate governance thing. And I'm like, what you're really saying is like, I'll only serve my customer and help them with the really important problem in their life. If I get this other random thing that the customer doesn't give two shits about, right? And that always kind of blows my mind. It's like, it's in some ways business is really about being selfless and like putting your customer first. But it's like, I'll only put my customer first if I get to get this startup in New York. And I'm like, that's obviously putting yourself for it. I think let's start with the most common anti-patterns we see. Sure. Right? Like, what are the ones you see the most, man? What's offended number one of where people are trying to innovate where they probably shouldn't be? I would say one that I see on the YC application that I love is when it's like some kind of weird incorporation. Yes. So, you know, we incorporated it as a Wyoming LLC. And I'm like, this was a voluntary red flag. Like this is like, yeah, why would you do that? And like sometimes they'll even write, well, because like, I don't know. And it's like, well, I think my theory is there's a lot of smart people. Again, they want to have it in different ways. And they'll look at something like corporate law and the existence of the Delaware C-Corp and be like, I, someone that knows nothing about this, could do better. Yes. Yes, obviously so. And everyone else is doing Delaware C-Corp's. Yes. For me, I'm going to do a, and then crazy things happen. Yes. Right? And so, probably corporate governance is not the best place to innovate. One thing that's been funny, headline ripped from the news is people looking at the corporate structure of open AI and being like, oh, this is an interesting idea. This is an instruction manual. A nonprofit that owns a for-profit. Would not recommend that strategy. Even the people that work in there, I mean, even Sam himself has suggested that that was perhaps not the wisest choice. And so again, the point here is the miracle of making something big want is the hard part. But if you're just doing like a startup, Delaware C-Corp's are pretty good. Yeah. I see another one because corporate governance that covers your investment docs and where you're incorporating and all that kind of stuff. You're investing, bubble blah, your classes of shares, sometimes you found this to increase stuff. I see another one that you brought up, though, which I really love is the like, I'm going to make this startup, but I'm also going to disprove every piece of startup advice. Like I love this. I'm only willing to help my customer if I can simultaneously prove that all of the startup advice is incorrect. Yes. And it's like, what? And so, yeah. The example of that is just to take something that is like widely considered useful or true and try to prove the opposite of it. Yes. You know, like my thing will be reliant upon making the small town that I live in. Yes. The center of the startup ecosystem or something. Yes. Like somehow there'll be other, some other bet they're making. Yes. That it involves a super contrarian thing that has nothing to do. Actually, I can think of an example of these by the way. Yes. Because I remember a founder doing something unrelated to keep this anonymous. But they were like, the real thing, the real bet we're trying to make is the hydrogen economy and that no one will use gasoline or solar or wind or or or or but then in the future we're going to use hydrogen everywhere. There you go. That was like, hey man, maybe don't mention that. We'll keep this between us. Maybe when you're, that's the real secret. Maybe you should keep that on the download. And again, like in the case was like, maybe he's right. Yeah. But that had nothing to do with the actual bet of the startup. No. And to try to throw in this long shot bet that we're all going to be using hydrogen for everything, again, maybe he's right. That seems like a completely unnecessary risk or thing to innovate on. Yeah. And I think that what's so sad about these things is that I think there's a misunderstanding of how hard it is to make something that people want where people think that they have these extra points, this extra juice to spread to do other things with. And I just, I always like to tell people it's like, this game is so hard without this stuff. Like, why do you want the game to be harder? Like I never understood that. Is it fun? Yeah. Okay. Let me get an example. That's fun. Okay. Sure. Like nerd made kind of stuff. Sure. Again, I, this is my recollection. When they started, they wrote their own programming language. Of course. First, of course. And why would you do that? Because it's fun. I believe they backed that out. Again, I'm so, so I'm going to correct me if I'm wrong on this. But a lot of times choosing very idiosyncratic programming languages or text acts, people choose to do it because it's fun. And who am I to follow for that? But like, it's like, they're optimizing for like, wouldn't it be cool if we wrote our entire thing in this new idiosyncratic programming language? Yeah. That's such a, it's like, I get it on one hand and your sharder should be fun, right? Like, you're doing it for a while. I get it on one hand, but I've never seen a founder who didn't have the most fun by helping their customers. Yeah. Do you remember in the Reddit versus Dig Wars, Dig made a lot of technical bets along these lines. You made a lot of very high risk technology choices while Reddit was just like, not, let's make a social news site. Well, I don't think they were taking any high risk technical choices. Yes. And so this again is an example where Dig was taking on all this extra risk. On something that had nothing to do with dig.com loading news stories. No. It was literally about the technologies they were choosing to power the website. Yes. Well, and the one I remember was when they did the revision and they couldn't roll it back when this site didn't work. Yes. That is correct. It was really impressive. I think the other thing that comes up a lot around innovation is business model and pricing. Yes. I think this once again is not putting the customer first. Hey, let's say you're selling cloud compute, right? Your customers have probably bought AWS before. Maybe you should charge like AWS does, right? Because maybe your customers will recognize that and that will give them comfort. No, that's wrong. We hate AWS. We can't do anything like AWS, including pricing. So now your customer looks at this pricing thing and they're like, well, I really like your product, but I don't understand. I don't understand. Your pricing page doesn't make sense. Like, yeah, it's not even that they don't want to pay. Yeah. It's that they, they're like, I don't understand what you're seeing or how this works. No. I don't know. I don't know. I don't know. I lose those. Yeah. And then I get credits for flusels and then I transfer them into the, like, super rich. And by the time I met that page, I just want to know what it costs. And if I can't figure out what it costs, like, how do I, you, I'm walking, you invite me in your home and then you've shot me in the light. No, you find me your home and I can't open the front door. Yeah. Like the door handle. I don't know how to use your door handle. And I really wanted to come in. I did. I was, I was game. I had my money. I was ready to buy something. So I think that like, so much of this kind of pop entrepreneur shark tanky advice, right? I actually think comes from a different place. I think it actually comes from like weird branding. And like I think that like in the branding world, like being different, being unique, like, like that is like a very, very important thing. And like a lot of the examples in the branding world are people who did things like radically different and then like became successful. What I find funny is that a lot of the examples in the technology world are people who did things 80% the same and 20% at least 30% at least 80% was the, was the minimum that they copied. Yeah. And so I think one of the things that's found us through up is when they take advice that might work in fashion and apply it to software. Yeah. Because yeah, this is my usability. If people can't use your thing, like I remember back in the day, people would try to innovate on the website design and how the cursor worked and like how you would even click buttons. And that was an example of probably not helpful innovation. And so watch out for unintentionally creating risk that you don't need to create. Yeah. And I think that if you put your first, your customer first, second and third, you might look at some of these other things and say, do I really need to do them? Or better yet, let me do it on my second startup. Let's get one successful startup out of the way. And then I can make programming languages. I can hire people all around the world. I can do all kinds of crazy things. Great. I can build rockets. I can do all kinds of cool things. Yeah. Start up on Earth too. All right, thoughts. Good chat. Thanks. Thanks.\n"
          ]
        }
      ]
    },
    {
      "cell_type": "code",
      "source": [
        "text = open(\"text.txt\", \"a\")\n",
        "text.write(result[\"text\"])\n",
        "text.close()"
      ],
      "metadata": {
        "id": "PO2C2WywRSV7"
      },
      "execution_count": 11,
      "outputs": []
    }
  ]
}