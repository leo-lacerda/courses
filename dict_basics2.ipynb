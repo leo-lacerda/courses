{
  "nbformat": 4,
  "nbformat_minor": 0,
  "metadata": {
    "colab": {
      "provenance": [],
      "authorship_tag": "ABX9TyPAtyu/JJRkwUtBe4F5QTNE",
      "include_colab_link": true
    },
    "kernelspec": {
      "name": "python3",
      "display_name": "Python 3"
    },
    "language_info": {
      "name": "python"
    }
  },
  "cells": [
    {
      "cell_type": "markdown",
      "metadata": {
        "id": "view-in-github",
        "colab_type": "text"
      },
      "source": [
        "<a href=\"https://colab.research.google.com/github/leo-lacerda/learning-python/blob/main/dict_basics2.ipynb\" target=\"_parent\"><img src=\"https://colab.research.google.com/assets/colab-badge.svg\" alt=\"Open In Colab\"/></a>"
      ]
    },
    {
      "cell_type": "code",
      "execution_count": 35,
      "metadata": {
        "colab": {
          "base_uri": "https://localhost:8080/"
        },
        "id": "NJu0GQn5EuZP",
        "outputId": "fa4b7042-6027-4e19-8d1f-b6162c36f066"
      },
      "outputs": [
        {
          "output_type": "stream",
          "name": "stdout",
          "text": [
            "Leo\n",
            "Fernanda\n"
          ]
        }
      ],
      "source": [
        "dict = [\n",
        "    {\"name\":\"Leo\", \"age\":40, \"ocupation\":\"Professor\"},\n",
        "    {\"name\":\"Fernanda\", \"age\":40, \"ocupation\":\"Digital Marketer\"}\n",
        "]\n",
        "\n",
        "print(dict[0]['name'])\n",
        "print(dict[1]['name'])"
      ]
    }
  ]
}